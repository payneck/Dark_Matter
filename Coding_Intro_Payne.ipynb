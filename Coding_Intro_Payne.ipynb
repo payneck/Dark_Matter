{
  "cells": [
    {
      "cell_type": "markdown",
      "metadata": {
        "id": "GV2zeDfZ83Y8"
      },
      "source": [
        "# Introduction to Coding\n",
        "\n",
        "First do a \"File - Save a Copy in Drive\" and Rename the notebook (in the top left).  \n",
        "\n",
        "Our goal is not perfect mastery, but to get you started and learn how to work with and edit code \"snippits.\"\n",
        "\n",
        "This is a *Jupyter notebook* with blocks of code called *cells*. You can press shift+ENTER to *run* a cell and go on to the next one. You can also edit the code and run it again to see how the output changes.\n",
        "\n",
        "You may see a popup window the first time saying \"Warning\". Don't worry, it's safe. Click on \"run anyway\"."
      ]
    },
    {
      "cell_type": "code",
      "execution_count": null,
      "metadata": {
        "id": "qveJP480pQQd"
      },
      "outputs": [],
      "source": []
    },
    {
      "cell_type": "markdown",
      "metadata": {
        "id": "BJmrpbTfQTUV"
      },
      "source": [
        "## Part 1: Math with Python\n",
        "Try running the following cells by pressing SHIFT and ENTER (at the same time) for each one.\n",
        "\n",
        "*You won't hurt anything by experimenting. If you break it, close the tab and open the activity again to start over.*"
      ]
    },
    {
      "cell_type": "code",
      "execution_count": null,
      "metadata": {
        "id": "dKC1JJ5N83Y_",
        "outputId": "d767a3d6-352a-42fb-f232-c0691012b981",
        "colab": {
          "base_uri": "https://localhost:8080/"
        }
      },
      "outputs": [
        {
          "output_type": "execute_result",
          "data": {
            "text/plain": [
              "4"
            ]
          },
          "metadata": {},
          "execution_count": 2
        }
      ],
      "source": [
        "# Click on this cell. Then, press SHIFT and ENTER at the same time.\n",
        "2+2"
      ]
    },
    {
      "cell_type": "code",
      "execution_count": null,
      "metadata": {
        "id": "IJA_4NqG83ZH",
        "outputId": "62949ff2-af8c-49b3-c300-f78391b9b845",
        "colab": {
          "base_uri": "https://localhost:8080/"
        }
      },
      "outputs": [
        {
          "output_type": "execute_result",
          "data": {
            "text/plain": [
              "1"
            ]
          },
          "metadata": {},
          "execution_count": 3
        }
      ],
      "source": [
        "# This is called a \"comment\". It's a message to other humans.\n",
        "# Starting with # tells the program not to read this line.\n",
        "# A name other than hashtag, pund sign, or number sign is octothorpe!\n",
        "# the program will run the next line since it doesn't start with #\n",
        "5-4"
      ]
    },
    {
      "cell_type": "code",
      "execution_count": null,
      "metadata": {
        "id": "zOUoSsDf83ZQ",
        "outputId": "29c62404-79d0-4843-f6de-f88e9c079e39",
        "colab": {
          "base_uri": "https://localhost:8080/"
        }
      },
      "outputs": [
        {
          "output_type": "execute_result",
          "data": {
            "text/plain": [
              "7"
            ]
          },
          "metadata": {},
          "execution_count": 4
        }
      ],
      "source": [
        "# the following lines define variables called \"a\" and \"b\"\n",
        "a = 4\n",
        "b = 3\n",
        "\n",
        "# the next line shows us what a plus b is.\n",
        "a+b"
      ]
    },
    {
      "cell_type": "code",
      "execution_count": null,
      "metadata": {
        "id": "qhfF5eh983ZX",
        "outputId": "ab8652f4-8e46-4994-851c-3d57fd6c487f",
        "colab": {
          "base_uri": "https://localhost:8080/"
        }
      },
      "outputs": [
        {
          "output_type": "execute_result",
          "data": {
            "text/plain": [
              "16"
            ]
          },
          "metadata": {},
          "execution_count": 5
        }
      ],
      "source": [
        "c = a*a # this line calculates a times a and saves the result as a varialbe called \"c\"\n",
        "c       # this line tells the program to show us what \"c\" is."
      ]
    },
    {
      "cell_type": "code",
      "execution_count": null,
      "metadata": {
        "id": "R8UFqllL83Zc",
        "outputId": "1f9b882c-dd73-4529-bdfd-c31e65641897",
        "colab": {
          "base_uri": "https://localhost:8080/",
          "height": 35
        }
      },
      "outputs": [
        {
          "output_type": "execute_result",
          "data": {
            "text/plain": [
              "'I just coded in Python'"
            ],
            "application/vnd.google.colaboratory.intrinsic+json": {
              "type": "string"
            }
          },
          "metadata": {},
          "execution_count": 6
        }
      ],
      "source": [
        "# this coding language is called \"python\"\n",
        "d = \"I just coded in Python\" # yep you did!\n",
        "# d\n",
        "# added code\n",
        "a/b\n",
        "a%b\n",
        "b%a"
      ]
    },
    {
      "cell_type": "markdown",
      "metadata": {
        "id": "zV5ykHtS83Zi"
      },
      "source": [
        "Try editing some of the code above.\n",
        "- Edit some code to do a different calculation\n",
        "- Add a comment somehwere\n",
        "\n",
        "You can run a cell again by pressing shift+ENTER."
      ]
    },
    {
      "cell_type": "code",
      "source": [
        "# notice what did not print. Let's see if the variable \"d\" will print.\n",
        "d"
      ],
      "metadata": {
        "colab": {
          "base_uri": "https://localhost:8080/",
          "height": 35
        },
        "id": "pp0V2cHceuPm",
        "outputId": "cf5b5a3e-c4b1-4938-d77a-5b396e04a92e"
      },
      "execution_count": null,
      "outputs": [
        {
          "output_type": "execute_result",
          "data": {
            "text/plain": [
              "'I just coded in Python'"
            ],
            "application/vnd.google.colaboratory.intrinsic+json": {
              "type": "string"
            }
          },
          "metadata": {},
          "execution_count": 10
        }
      ]
    },
    {
      "cell_type": "code",
      "source": [
        "# You could also use a print function\n",
        "print(d)"
      ],
      "metadata": {
        "colab": {
          "base_uri": "https://localhost:8080/"
        },
        "id": "AwYNPq4VfAq4",
        "outputId": "5155cf2c-5edf-40ed-c88e-3bbfc1e70837"
      },
      "execution_count": null,
      "outputs": [
        {
          "output_type": "stream",
          "name": "stdout",
          "text": [
            "I just coded in Python\n"
          ]
        }
      ]
    },
    {
      "cell_type": "code",
      "source": [
        "# And you could add text as shown here:\n",
        "print(\"My first attempt (maybe): \", d)"
      ],
      "metadata": {
        "colab": {
          "base_uri": "https://localhost:8080/"
        },
        "id": "T-2wBzMSfM6t",
        "outputId": "141d87e2-5826-47c8-d46e-e2e03e8c7597"
      },
      "execution_count": null,
      "outputs": [
        {
          "output_type": "stream",
          "name": "stdout",
          "text": [
            "My first attempt (maybe):  I just coded in Python\n"
          ]
        }
      ]
    },
    {
      "cell_type": "code",
      "execution_count": null,
      "metadata": {
        "id": "QSxiFZml83Zj",
        "colab": {
          "base_uri": "https://localhost:8080/"
        },
        "outputId": "43e7575e-b0dc-4324-bdaa-b95d946b5012"
      },
      "outputs": [
        {
          "output_type": "execute_result",
          "data": {
            "text/plain": [
              "81"
            ]
          },
          "metadata": {},
          "execution_count": 7
        }
      ],
      "source": [
        "# Can you figure out what ** does?\n",
        "e = b**a\n",
        "e"
      ]
    },
    {
      "cell_type": "markdown",
      "metadata": {
        "id": "nizh1xTz83Zo"
      },
      "source": [
        "## Part 2: Markdown\n",
        "The cells above are *code cells* that let you to run code. This is a *markdown cell* that contains markdown text that isn't read as Python code. Instead, you can format markdown text to look nice.\n",
        "\n",
        "Double-click on this cell to see the markdown text underneath. Running a markdown cell turns it into pretty, formatted text.\n",
        "- here's a bullet point\n",
        "- and another list item in *italics* and **bold**.\n",
        "- this is a hyperlink to [my favorite thing on the web](https://www.youtube.com/watch?v=dQw4w9WgXcQ)\n",
        "- You can even embed images  \n",
        "![cute kitten](https://github.com/adamlamee/CODINGinK12/raw/master/notebooks/1dayoldkitten.png)  \n",
        "\n",
        "### Try this\n",
        "Double-click on this cell to see the code that formats this text. Make a few edits and press shift+ENTER to see the changes.\n",
        "\n",
        "Read more about [formatting the markdown text](https://help.github.com/articles/basic-writing-and-formatting-syntax/) in a cell, like this one, or go to Help > Markdown > Basic Writing and Formatting Text."
      ]
    },
    {
      "cell_type": "markdown",
      "metadata": {
        "id": "tAGfsNiWQYHl"
      },
      "source": [
        "## Part 3: Physics Challenge\n",
        "The code below isn't quite right, in at least two ways. Edit the code to make the correct calculation."
      ]
    },
    {
      "cell_type": "code",
      "execution_count": null,
      "metadata": {
        "id": "BLvgYyoOOvEX",
        "outputId": "f60772ce-0043-425e-dba8-ca05d77e5f95",
        "colab": {
          "base_uri": "https://localhost:8080/"
        }
      },
      "outputs": [
        {
          "output_type": "stream",
          "name": "stdout",
          "text": [
            "The object accelerates at 2.5 m/s/s.\n"
          ]
        }
      ],
      "source": [
        "m = 2 #mass, in kg\n",
        "f = 5 #force, in N\n",
        "a = f*m\n",
        "# a = f/m  # Isaac would have been pleased with this correction\n",
        "print(\"The object accelerates at\", a , \"m/s/s.\") # units changed"
      ]
    },
    {
      "cell_type": "markdown",
      "metadata": {
        "id": "kwo1_gM2PZCn"
      },
      "source": [
        "## Part 4: Coding Challenge\n",
        "After solving Newton's 2nd Law in the previous part, it's time for you to write your own physics problem. Choose something similar to what you have your students solve in class. Write a few lines of python in the code cell below to solve the problem."
      ]
    },
    {
      "cell_type": "markdown",
      "metadata": {
        "id": "NJ9UKXxlpQQq"
      },
      "source": [
        "A car accelerates from rest at 1 m/s/s for 35 seconds. What is the final position relative to the starting point, and what is the speed of the car at that point? Formulae that might prove useful: <br>\n",
        "$x_{f}=x_{i}+v_{i}t + 0.5*a*t*t$ <br>\n",
        "$v_{f} = v_{i} + a*t$\n"
      ]
    },
    {
      "cell_type": "code",
      "execution_count": null,
      "metadata": {
        "id": "rBji36-TPyV0",
        "outputId": "f2168447-fd17-4e9d-f3fe-20289c451a14",
        "colab": {
          "base_uri": "https://localhost:8080/"
        }
      },
      "outputs": [
        {
          "output_type": "stream",
          "name": "stdout",
          "text": [
            "The displacement is 612.5 m, and the final velocity is 35 m/s.\n"
          ]
        }
      ],
      "source": [
        "# write your problem's code in this cell\n",
        "# Givens\n",
        "vi = 0  # intial speed of the car in m/s\n",
        "xi = 0  # initial position of the car in m\n",
        "a = 1   # acceleration of the car in m/s/s\n",
        "t = 35  # total time in s\n",
        "# Calculations and results\n",
        "xf  # type in the kinematic equation for displacement above\n",
        "vf  # type in the kinematic equation for final velocity above\n",
        "print(\"The displacement is\", xf,\"m, and the final velocity is\", vf,\"m/s.\")\n"
      ]
    },
    {
      "cell_type": "markdown",
      "metadata": {
        "id": "krilk8Mp83Zq"
      },
      "source": [
        "---\n",
        "## Saving Your Work\n",
        "This is running on a Google server on a distant planet and deletes what you've done when you close this tab. To save your work for later use or analysis you have a few options:\n",
        "- File > \"Save a copy in Drive\" will save it to you Google Drive in a folder called \"Collaboratory\". You can run it later from there.  \n",
        "- File > \"Download .ipynb\" to save to your computer (and run with Jupyter software later)\n",
        "- File > Print to ... um ... print.\n",
        "- Save an image to your computer of a graph or chart, right-click on it and select Save Image as ...\n",
        "\n",
        "## Credits\n",
        "This notebook was designed by [Adam LaMee](https://adamlamee.github.io/). Thanks to the great folks at [Binder](https://mybinder.org/) and [Google Colaboratory](https://colab.research.google.com/notebooks/intro.ipynb) for making this notebook interactive without you needing to download it or install [Jupyter](https://jupyter.org/) on your own device. Find more activities and license info at [CODINGinK12.org](http://www.codingink12.org)."
      ]
    }
  ],
  "metadata": {
    "colab": {
      "provenance": []
    },
    "kernelspec": {
      "display_name": "Python 3",
      "language": "python",
      "name": "python3"
    },
    "language_info": {
      "codemirror_mode": {
        "name": "ipython",
        "version": 3
      },
      "file_extension": ".py",
      "mimetype": "text/x-python",
      "name": "python",
      "nbconvert_exporter": "python",
      "pygments_lexer": "ipython3",
      "version": "3.7.3"
    }
  },
  "nbformat": 4,
  "nbformat_minor": 0
}